{
 "cells": [
  {
   "cell_type": "markdown",
   "id": "45ebd99c",
   "metadata": {},
   "source": [
    "# Schedule Python scripts in Snowflake\n",
    "\n",
    "To schedule Python scripts in Snowflake using the snowflake-connector-python library from VS Code, you can follow these steps:\n",
    "\n",
    "##Prerequisites\n",
    "\n",
    "1.Install the necessary packages: Ensure you have the Snowflake connector installed in your Python environment:sh\n",
    "    Copy code\n",
    "    pip install snowflake-connector-python\n",
    "\n",
    "2.Set up your Snowflake account details: Ensure you have the following Snowflake account details:\n",
    "    Account name\n",
    "    Username\n",
    "    Password\n",
    "    Role\n",
    "    Warehouse\n",
    "    Database\n",
    "    Schema\n",
    "\n"
   ]
  },
  {
   "cell_type": "markdown",
   "id": "c6709371",
   "metadata": {},
   "source": [
    "# Connect to Snowflake"
   ]
  },
  {
   "cell_type": "code",
   "execution_count": null,
   "id": "14532202",
   "metadata": {},
   "outputs": [],
   "source": [
    "import snowflake.connector\n",
    "\n",
    "# Define your connection parameters\n",
    "conn_params = {\n",
    "    'user': 'YOUR_USERNAME',\n",
    "    'password': 'YOUR_PASSWORD',\n",
    "    'account': 'YOUR_ACCOUNT_NAME',\n",
    "    'warehouse': 'YOUR_WAREHOUSE',\n",
    "    'database': 'YOUR_DATABASE',\n",
    "    'schema': 'YOUR_SCHEMA',\n",
    "}\n",
    "\n",
    "# Connect to Snowflake\n",
    "conn = snowflake.connector.connect(**conn_params)\n"
   ]
  },
  {
   "cell_type": "markdown",
   "id": "bf53ce8e",
   "metadata": {},
   "source": [
    "# Create Cursor and Define SQL for Stored Procedure\n"
   ]
  },
  {
   "cell_type": "code",
   "execution_count": null,
   "id": "9a00144f",
   "metadata": {},
   "outputs": [],
   "source": [
    "# Create a cursor object\n",
    "cursor = conn.cursor()\n",
    "\n",
    "# Your SQL command to create a stored procedure\n",
    "create_procedure_sql = \"\"\"\n",
    "CREATE OR REPLACE PROCEDURE my_python_procedure()\n",
    "RETURNS STRING\n",
    "LANGUAGE PYTHON\n",
    "RUNTIME_VERSION = '3.8'\n",
    "PACKAGES = ('snowflake-snowpark-python')\n",
    "HANDLER = 'my_python_procedure'\n",
    "AS $$\n",
    "import snowflake.snowpark as snowpark\n",
    "\n",
    "def my_python_procedure(session: snowpark.Session) -> str:\n",
    "    # Your Python code here\n",
    "    return \"Hello, Snowflake!\"\n",
    "$$;\n",
    "\"\"\"\n",
    "\n",
    "# Execute the SQL command to create the stored procedure\n",
    "cursor.execute(create_procedure_sql)"
   ]
  },
  {
   "cell_type": "markdown",
   "id": "2293ff55",
   "metadata": {},
   "source": [
    "# Define SQL for Creating Task"
   ]
  },
  {
   "cell_type": "code",
   "execution_count": null,
   "id": "f281d652",
   "metadata": {},
   "outputs": [],
   "source": [
    "# Your SQL command to create a task\n",
    "create_task_sql = \"\"\"\n",
    "CREATE OR REPLACE TASK my_task\n",
    "WAREHOUSE = 'MY_WAREHOUSE'\n",
    "SCHEDULE = 'USING CRON 0 * * * *' -- This example runs every hour\n",
    "AS\n",
    "CALL my_python_procedure();\n",
    "\"\"\"\n",
    "cursor.execute(create_task_sql)\n",
    "\n"
   ]
  },
  {
   "cell_type": "markdown",
   "id": "a4397eca",
   "metadata": {},
   "source": [
    "# Enable the Task"
   ]
  },
  {
   "cell_type": "code",
   "execution_count": null,
   "id": "c6b8a841",
   "metadata": {},
   "outputs": [],
   "source": [
    "# Enable the task\n",
    "cursor.execute(\"ALTER TASK my_task RESUME\")\n",
    "cursor.close()\n",
    "conn.close()"
   ]
  },
  {
   "cell_type": "markdown",
   "id": "09eba9cd",
   "metadata": {},
   "source": [
    "# Full Script"
   ]
  },
  {
   "cell_type": "code",
   "execution_count": null,
   "id": "a28e3a07",
   "metadata": {},
   "outputs": [],
   "source": [
    "import snowflake.connector\n",
    "\n",
    "# Define your connection parameters\n",
    "conn_params = {\n",
    "    'user': 'YOUR_USERNAME',\n",
    "    'password': 'YOUR_PASSWORD',\n",
    "    'account': 'YOUR_ACCOUNT_NAME',\n",
    "    'warehouse': 'YOUR_WAREHOUSE',\n",
    "    'database': 'YOUR_DATABASE',\n",
    "    'schema': 'YOUR_SCHEMA',\n",
    "}\n",
    "\n",
    "# Connect to Snowflake\n",
    "conn = snowflake.connector.connect(**conn_params)\n",
    "\n",
    "try:\n",
    "    # Create a cursor object\n",
    "    cursor = conn.cursor()\n",
    "\n",
    "    # Your SQL command to create a stored procedure\n",
    "    create_procedure_sql = \"\"\"\n",
    "    CREATE OR REPLACE PROCEDURE my_python_procedure()\n",
    "    RETURNS STRING\n",
    "    LANGUAGE PYTHON\n",
    "    RUNTIME_VERSION = '3.8'\n",
    "    PACKAGES = ('snowflake-snowpark-python')\n",
    "    HANDLER = 'my_python_procedure'\n",
    "    AS $$\n",
    "    import snowflake.snowpark as snowpark\n",
    "\n",
    "    def my_python_procedure(session: snowpark.Session) -> str:\n",
    "        # Your Python code here\n",
    "        return \"Hello, Snowflake!\"\n",
    "    $$;\n",
    "    \"\"\"\n",
    "\n",
    "    # Execute the SQL command\n",
    "    cursor.execute(create_procedure_sql)\n",
    "    print(\"Stored procedure created successfully\")\n",
    "\n",
    "    # Your SQL command to create a task\n",
    "    create_task_sql = \"\"\"\n",
    "    CREATE OR REPLACE TASK my_task\n",
    "    WAREHOUSE = 'MY_WAREHOUSE'\n",
    "    SCHEDULE = 'USING CRON 0 * * * *' -- This example runs every hour\n",
    "    AS\n",
    "    CALL my_python_procedure();\n",
    "    \"\"\"\n",
    "\n",
    "    # Execute the SQL command\n",
    "    cursor.execute(create_task_sql)\n",
    "    print(\"Task created successfully\")\n",
    "\n",
    "    # Enable the task\n",
    "    cursor.execute(\"ALTER TASK my_task RESUME\")\n",
    "    print(\"Task enabled successfully\")\n",
    "\n",
    "finally:\n",
    "    # Close the cursor and connection\n",
    "    cursor.close()\n",
    "    conn.close()\n"
   ]
  }
 ],
 "metadata": {
  "kernelspec": {
   "display_name": "Python 3 (ipykernel)",
   "language": "python",
   "name": "python3"
  },
  "language_info": {
   "codemirror_mode": {
    "name": "ipython",
    "version": 3
   },
   "file_extension": ".py",
   "mimetype": "text/x-python",
   "name": "python",
   "nbconvert_exporter": "python",
   "pygments_lexer": "ipython3",
   "version": "3.9.13"
  }
 },
 "nbformat": 4,
 "nbformat_minor": 5
}
